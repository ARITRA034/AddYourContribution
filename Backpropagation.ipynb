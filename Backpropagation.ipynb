{
 "cells": [
  {
   "cell_type": "code",
   "execution_count": 1,
   "id": "ee5eac59",
   "metadata": {},
   "outputs": [],
   "source": [
    "import numpy as np\n",
    "import pandas as pd"
   ]
  },
  {
   "cell_type": "code",
   "execution_count": 5,
   "id": "64113d43",
   "metadata": {},
   "outputs": [],
   "source": [
    "df=pd.DataFrame([[7,5,12],[8,7,15],[6,4,10],[9,8,18],[7,6,14]],columns=('cgpa','resume_score','lpa'))"
   ]
  },
  {
   "cell_type": "code",
   "execution_count": 6,
   "id": "c208a7ab",
   "metadata": {},
   "outputs": [
    {
     "data": {
      "text/html": [
       "<div>\n",
       "<style scoped>\n",
       "    .dataframe tbody tr th:only-of-type {\n",
       "        vertical-align: middle;\n",
       "    }\n",
       "\n",
       "    .dataframe tbody tr th {\n",
       "        vertical-align: top;\n",
       "    }\n",
       "\n",
       "    .dataframe thead th {\n",
       "        text-align: right;\n",
       "    }\n",
       "</style>\n",
       "<table border=\"1\" class=\"dataframe\">\n",
       "  <thead>\n",
       "    <tr style=\"text-align: right;\">\n",
       "      <th></th>\n",
       "      <th>cgpa</th>\n",
       "      <th>resume_score</th>\n",
       "      <th>lpa</th>\n",
       "    </tr>\n",
       "  </thead>\n",
       "  <tbody>\n",
       "    <tr>\n",
       "      <th>0</th>\n",
       "      <td>7</td>\n",
       "      <td>5</td>\n",
       "      <td>12</td>\n",
       "    </tr>\n",
       "    <tr>\n",
       "      <th>1</th>\n",
       "      <td>8</td>\n",
       "      <td>7</td>\n",
       "      <td>15</td>\n",
       "    </tr>\n",
       "    <tr>\n",
       "      <th>2</th>\n",
       "      <td>6</td>\n",
       "      <td>4</td>\n",
       "      <td>10</td>\n",
       "    </tr>\n",
       "    <tr>\n",
       "      <th>3</th>\n",
       "      <td>9</td>\n",
       "      <td>8</td>\n",
       "      <td>18</td>\n",
       "    </tr>\n",
       "    <tr>\n",
       "      <th>4</th>\n",
       "      <td>7</td>\n",
       "      <td>6</td>\n",
       "      <td>14</td>\n",
       "    </tr>\n",
       "  </tbody>\n",
       "</table>\n",
       "</div>"
      ],
      "text/plain": [
       "   cgpa  resume_score  lpa\n",
       "0     7             5   12\n",
       "1     8             7   15\n",
       "2     6             4   10\n",
       "3     9             8   18\n",
       "4     7             6   14"
      ]
     },
     "execution_count": 6,
     "metadata": {},
     "output_type": "execute_result"
    }
   ],
   "source": [
    "df"
   ]
  },
  {
   "cell_type": "code",
   "execution_count": 18,
   "id": "d9dbff50",
   "metadata": {},
   "outputs": [],
   "source": [
    "# initialize weights and biases\n",
    "def initialize_parameters(layer_dim):\n",
    "    np.random.seed(3)\n",
    "    parameters={}\n",
    "    L=len(layer_dim)\n",
    "    \n",
    "    for i in range (1,L):\n",
    "        parameters['w'+str(i)]=np.ones((layer_dim[i-1],layer_dim[i]))*0.1\n",
    "        parameters['b'+str(i)]=np.zeros((layer_dim[i],1))\n",
    "        \n",
    "    return parameters"
   ]
  },
  {
   "cell_type": "code",
   "execution_count": 19,
   "id": "8a25994d",
   "metadata": {},
   "outputs": [
    {
     "data": {
      "text/plain": [
       "{'w1': array([[0.1, 0.1],\n",
       "        [0.1, 0.1]]),\n",
       " 'b1': array([[0.],\n",
       "        [0.]]),\n",
       " 'w2': array([[0.1],\n",
       "        [0.1]]),\n",
       " 'b2': array([[0.]])}"
      ]
     },
     "execution_count": 19,
     "metadata": {},
     "output_type": "execute_result"
    }
   ],
   "source": [
    "initialize_parameters([2,2,1])"
   ]
  },
  {
   "cell_type": "code",
   "execution_count": 20,
   "id": "9c27dd68",
   "metadata": {},
   "outputs": [],
   "source": [
    "# forward prpagation\n",
    "def forward(A_prev,W,b):\n",
    "    Z=np.dot(W.T,A_prev)+b # (W^T.X)+b\n",
    "    \n",
    "    return Z"
   ]
  },
  {
   "cell_type": "code",
   "execution_count": 21,
   "id": "42c74ffb",
   "metadata": {},
   "outputs": [],
   "source": [
    "def forward_propagation(X,parameters):\n",
    "    A=X\n",
    "    L=len(parameters)//2 # no of layers\n",
    "    \n",
    "    for l in range(1,L+1):\n",
    "        A_prev=A\n",
    "        Wl=parameters['w'+str(l)]\n",
    "        bl=parameters['b'+str(l)]\n",
    "        A=forward(A_prev,Wl,bl)\n",
    "    return A,A_prev"
   ]
  },
  {
   "cell_type": "code",
   "execution_count": 52,
   "id": "273533c7",
   "metadata": {},
   "outputs": [],
   "source": [
    "def update_Parameters(parameters,Y,Y_hat,A1,X):\n",
    "    parameters['w2'][0][0]=parameters['w2'][0][0]+(0.001*2*(Y-Y_hat)*A1[0][0])\n",
    "    parameters['w2'][1][0]=parameters['w2'][1][0]+(0.001*2*(Y-Y_hat)*A1[1][0])\n",
    "    parameters['b2'][0][0]=parameters['b2'][0][0]+(0.001*2*(Y-Y_hat))\n",
    "    \n",
    "    parameters['w1'][0][0]=parameters['w1'][0][0]+(0.001*2*(Y-Y_hat)*parameters['w2'][0][0]*X[0][0])\n",
    "    parameters['w1'][0][1]=parameters['w1'][0][1]+(0.001*2*(Y-Y_hat)*parameters['w2'][0][0]*X[1][0])\n",
    "    parameters['b1'][0][0]=parameters['b1'][0][0]+(0.001*2*(Y-Y_hat)*parameters['w2'][0][0])\n",
    "    \n",
    "    parameters['w1'][1][0]=parameters['w1'][1][0]+(0.001*2*(Y-Y_hat)*parameters['w2'][1][0]*X[0][0])\n",
    "    parameters['w1'][1][1]=parameters['w1'][1][1]+(0.001*2*(Y-Y_hat)*parameters['w2'][1][0]*X[1][0])\n",
    "    parameters['b1'][1][0]=parameters['b1'][1][0]+(0.001*2*(Y-Y_hat)*parameters['w2'][1][0])"
   ]
  },
  {
   "cell_type": "code",
   "execution_count": 28,
   "id": "b7ff3f43",
   "metadata": {},
   "outputs": [],
   "source": [
    "# taking the 0th row\n",
    "X=df[['cgpa','resume_score']].values[0].reshape(2,1)\n",
    "Y=df[['lpa']].values[0][0]"
   ]
  },
  {
   "cell_type": "code",
   "execution_count": 32,
   "id": "48ba902e",
   "metadata": {},
   "outputs": [],
   "source": [
    "# calculate forward Propagation\n",
    "parameters=initialize_parameters([2,2,1])"
   ]
  },
  {
   "cell_type": "code",
   "execution_count": 35,
   "id": "757031cf",
   "metadata": {},
   "outputs": [],
   "source": [
    "# Y_hat = O_21, A1=[O_11,O_12]\n",
    "Y_hat,A1=forward_propagation(X,parameters)"
   ]
  },
  {
   "cell_type": "code",
   "execution_count": 38,
   "id": "fb660369",
   "metadata": {},
   "outputs": [],
   "source": [
    "Y_hat=Y_hat[0][0]"
   ]
  },
  {
   "cell_type": "code",
   "execution_count": 40,
   "id": "2960dcc0",
   "metadata": {},
   "outputs": [
    {
     "data": {
      "text/plain": [
       "1.2000000000000002"
      ]
     },
     "execution_count": 40,
     "metadata": {},
     "output_type": "execute_result"
    }
   ],
   "source": [
    "A1[0][0]"
   ]
  },
  {
   "cell_type": "code",
   "execution_count": 53,
   "id": "8e77f5b9",
   "metadata": {},
   "outputs": [],
   "source": [
    "update_Parameters(parameters,Y,Y_hat,A1,X)"
   ]
  },
  {
   "cell_type": "code",
   "execution_count": 54,
   "id": "83c18473",
   "metadata": {},
   "outputs": [
    {
     "data": {
      "text/plain": [
       "{'w1': array([[1.05498435, 0.16384983],\n",
       "        [1.29077251, 0.51602035]]),\n",
       " 'b1': array([[0.15450498],\n",
       "        [0.09013708]]),\n",
       " 'w2': array([[1.09525012],\n",
       "        [0.53898977]]),\n",
       " 'b2': array([[0.2524484]])}"
      ]
     },
     "execution_count": 54,
     "metadata": {},
     "output_type": "execute_result"
    }
   ],
   "source": [
    "parameters"
   ]
  },
  {
   "cell_type": "code",
   "execution_count": 55,
   "id": "5778da3d",
   "metadata": {},
   "outputs": [
    {
     "data": {
      "text/plain": [
       "{'w1': array([[0.95746286, 0.07851852],\n",
       "        [1.23659688, 0.46861667]]),\n",
       " 'b1': array([[0.14231479],\n",
       "        [0.08336513]]),\n",
       " 'w2': array([[0.83914315],\n",
       "        [0.46616505]]),\n",
       " 'b2': array([[0.23792145]])}"
      ]
     },
     "execution_count": 55,
     "metadata": {},
     "output_type": "execute_result"
    }
   ],
   "source": [
    "# taking the 1st row\n",
    "X=df[['cgpa','resume_score']].values[1].reshape(2,1)\n",
    "Y=df[['lpa']].values[1][0]\n",
    "\n",
    "Y_hat,A1=forward_propagation(X,parameters)\n",
    "Y_hat=Y_hat[0][0]\n",
    "\n",
    "update_Parameters(parameters,Y,Y_hat,A1,X)\n",
    "parameters"
   ]
  },
  {
   "cell_type": "code",
   "execution_count": 56,
   "id": "706f44f2",
   "metadata": {},
   "outputs": [
    {
     "data": {
      "text/plain": [
       "{'w1': array([[0.95287548, 0.07546027],\n",
       "        [1.23403017, 0.46690553]]),\n",
       " 'b1': array([[0.14155023],\n",
       "        [0.08293734]]),\n",
       " 'w2': array([[0.8291536 ],\n",
       "        [0.46392533]]),\n",
       " 'b2': array([[0.23699935]])}"
      ]
     },
     "execution_count": 56,
     "metadata": {},
     "output_type": "execute_result"
    }
   ],
   "source": [
    "# taking the 2nd row\n",
    "X=df[['cgpa','resume_score']].values[2].reshape(2,1)\n",
    "Y=df[['lpa']].values[2][0]\n",
    "\n",
    "Y_hat,A1=forward_propagation(X,parameters)\n",
    "Y_hat=Y_hat[0][0]\n",
    "\n",
    "update_Parameters(parameters,Y,Y_hat,A1,X)\n",
    "parameters"
   ]
  },
  {
   "cell_type": "code",
   "execution_count": 57,
   "id": "6fa30ca6",
   "metadata": {},
   "outputs": [
    {
     "data": {
      "text/plain": [
       "{'w1': array([[0.95684524, 0.07898895],\n",
       "        [1.23623662, 0.46886682]]),\n",
       " 'b1': array([[0.14199132],\n",
       "        [0.08318251]]),\n",
       " 'w2': array([[0.83892751],\n",
       "        [0.46628989]]),\n",
       " 'b2': array([[0.23752512]])}"
      ]
     },
     "execution_count": 57,
     "metadata": {},
     "output_type": "execute_result"
    }
   ],
   "source": [
    "# taking the 3rd row\n",
    "X=df[['cgpa','resume_score']].values[3].reshape(2,1)\n",
    "Y=df[['lpa']].values[3][0]\n",
    "\n",
    "Y_hat,A1=forward_propagation(X,parameters)\n",
    "Y_hat=Y_hat[0][0]\n",
    "\n",
    "update_Parameters(parameters,Y,Y_hat,A1,X)\n",
    "parameters"
   ]
  },
  {
   "cell_type": "code",
   "execution_count": 58,
   "id": "e4cd36b6",
   "metadata": {},
   "outputs": [
    {
     "data": {
      "text/plain": [
       "{'w1': array([[0.95688513, 0.0790244 ],\n",
       "        [1.23625879, 0.46888653]]),\n",
       " 'b1': array([[0.14199575],\n",
       "        [0.08318497]]),\n",
       " 'w2': array([[0.839026 ],\n",
       "        [0.4663139]]),\n",
       " 'b2': array([[0.23753041]])}"
      ]
     },
     "execution_count": 58,
     "metadata": {},
     "output_type": "execute_result"
    }
   ],
   "source": [
    "# taking the 4th row\n",
    "X=df[['cgpa','resume_score']].values[3].reshape(2,1)\n",
    "Y=df[['lpa']].values[3][0]\n",
    "\n",
    "Y_hat,A1=forward_propagation(X,parameters)\n",
    "Y_hat=Y_hat[0][0]\n",
    "\n",
    "update_Parameters(parameters,Y,Y_hat,A1,X)\n",
    "parameters"
   ]
  },
  {
   "cell_type": "code",
   "execution_count": 63,
   "id": "af9ef0e2",
   "metadata": {},
   "outputs": [
    {
     "name": "stdout",
     "output_type": "stream",
     "text": [
      "Epoch -  1 Loss -  272.6280010586826\n",
      "Epoch -  2 Loss -  57.9109904432418\n",
      "Epoch -  3 Loss -  21.05438853874994\n",
      "Epoch -  4 Loss -  21.16223696049797\n",
      "Epoch -  5 Loss -  21.26589206256559\n"
     ]
    },
    {
     "data": {
      "text/plain": [
       "{'w1': array([[0.87327047, 0.65251685],\n",
       "        [0.80210133, 0.60282511]]),\n",
       " 'b1': array([[0.12439237],\n",
       "        [0.11262303]]),\n",
       " 'w2': array([[0.86163678],\n",
       "        [0.7691851 ]]),\n",
       " 'b2': array([[0.24389275]])}"
      ]
     },
     "execution_count": 63,
     "metadata": {},
     "output_type": "execute_result"
    }
   ],
   "source": [
    "# epochs implementation\n",
    "\n",
    "parameters = initialize_parameters([2,2,1])\n",
    "epochs = 5\n",
    "\n",
    "for i in range(epochs):\n",
    "\n",
    "  Loss = []\n",
    "\n",
    "  for j in range(df.shape[0]):\n",
    "\n",
    "    X = df[['cgpa', 'resume_score']].values[j].reshape(2,1) # Shape(no of features, no. of training example)\n",
    "    y = df[['lpa']].values[j][0]\n",
    "\n",
    "    # Parameter initialization\n",
    "\n",
    "    Y_hat,A1 = forward_propagation(X,parameters)\n",
    "    Y_hat = Y_hat[0][0]\n",
    "\n",
    "    update_Parameters(parameters,Y,Y_hat,A1,X)\n",
    "\n",
    "    Loss.append((Y-Y_hat)**2)\n",
    "\n",
    "  print('Epoch - ',i+1,'Loss - ',np.array(Loss).mean())\n",
    "\n",
    "parameters"
   ]
  },
  {
   "cell_type": "code",
   "execution_count": null,
   "id": "576980c6",
   "metadata": {},
   "outputs": [],
   "source": []
  }
 ],
 "metadata": {
  "kernelspec": {
   "display_name": "Python 3 (ipykernel)",
   "language": "python",
   "name": "python3"
  },
  "language_info": {
   "codemirror_mode": {
    "name": "ipython",
    "version": 3
   },
   "file_extension": ".py",
   "mimetype": "text/x-python",
   "name": "python",
   "nbconvert_exporter": "python",
   "pygments_lexer": "ipython3",
   "version": "3.10.5"
  }
 },
 "nbformat": 4,
 "nbformat_minor": 5
}
